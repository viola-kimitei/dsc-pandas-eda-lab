














# Your code here
import pandas as pd
import matplotlib.pyplot as plt






# Your code here
df = pd.read_csv('data/ames.csv', index_col = 0)
df.head(2)





# Run this cell without changes

# Check that df is a dataframe
assert type(df) == pd.DataFrame

# Check that there are the correct number of rows
assert df.shape[0] == 1460

# Check that there are the correct number of columns
# (if this crashes, make sure you specified `index_col=0`)
assert df.shape[1] == 80





# Run this cell without changes
df


# Run this cell without changes
df.info()








# Your code here
df['SalePrice'].plot(kind = 'hist'); #TotRmsAbvGrd, and OverallCond
plt.xlabel('SalePrice')
plt.ylabel('Frequency')
plt.title('Sale Price Distribution')
plt.axvline(df['SalePrice'].mean(),color='black',linestyle='dashed',linewidth=2)
plt.show()





# Your code here
#mean
mean_SalePrice = df['SalePrice'].mean()
print(mean_SalePrice)

#median
median_SalePrice = df['SalePrice'].median()
print(median_SalePrice)

#standard devaition
std_SalePrice = df['SalePrice'].std()
print(std_SalePrice)






# Replace None with appropriate text
"""
It is not normally distributed
"""





import seaborn as sns


# Your code here
# Plotting the histogram
df['TotRmsAbvGrd'].plot(kind='hist', edgecolor='black', density=True, alpha=0.6)  # 'density=True' normalizes the histogram

# Adding KDE curve
sns.kdeplot(df['TotRmsAbvGrd'], color='green', linewidth=1)

# Labeling the Plots
plt.xlabel('TotRmsAbvGrd')
plt.ylabel('Density')
plt.title('TotRmsAbvGrd Price Distribution')
plt.axvline(df['TotRmsAbvGrd'].mean(), color='r', linestyle='dashed', linewidth=1, label='Mean')

# Adding legend
plt.legend()
plt.show();





# Your code here
#mean
mean_TotRmsAbvGrd = df['TotRmsAbvGrd'].mean()
print(mean_TotRmsAbvGrd)

#median
median_TotRmsAbvGrd = df['TotRmsAbvGrd'].median()
print(median_TotRmsAbvGrd)

#standard devaition
std_TotRmsAbvGrd = df['TotRmsAbvGrd'].std()
print(std_TotRmsAbvGrd)





# Replace None with appropriate text
"""
None
"""





# Your code here
df['OverallCond'].plot(kind = 'hist'); #TotRmsAbvGrd, and OverallCond
plt.xlabel('OverallCond')
plt.ylabel('Frequency')
plt.title('OverallCond Distribution')
plt.axvline(df['OverallCond'].mean(),color='black',linestyle='dashed',linewidth=2)
plt.show()





# Your code here
#mean
mean_OverallCond = df['OverallCond'].mean()
print(mean_OverallCond)

#median
median_OverallCond = df['OverallCond'].median()
print(median_OverallCond)

#standard devaition
std_OverallCond = df['OverallCond'].std()
print(std_OverallCond)





# Replace None with appropriate text
"""
None
"""





# Replace None with appropriate code
below_average_condition = df.loc[df['OverallCond'] <5]
average_condition = df.loc[df['OverallCond'] ==5]
above_average_condition = df.loc[df['OverallCond'] >5]





# Run this cell without changes

# Check that all of them still have 80 columns
assert below_average_condition.shape[1] == 80
assert average_condition.shape[1] == 80
assert above_average_condition.shape[1] == 80

# Check the numbers of rows of each subset
assert below_average_condition.shape[0] == 88
assert average_condition.shape[0] == 821
assert above_average_condition.shape[0] == 551





# Run this cell without changes

# Set up plot
fig, ax = plt.subplots(figsize=(15,5))

# Create custom bins so all are on the same scale
bins = range(df["SalePrice"].min(), df["SalePrice"].max(), int(df["SalePrice"].median()) // 20)

# Plot three histograms, with reduced opacity (alpha) so we
# can see them overlapping
ax.hist(
    x=above_average_condition["SalePrice"],
    label="above average condition",
    bins=bins,
    color="cyan",
    alpha=0.5
)
ax.hist(
    x=average_condition["SalePrice"],
    label="average condition",
    bins=bins,
    color="gray",
    alpha=0.3
)
ax.hist(
    x=below_average_condition["SalePrice"],
    label="below average condition",
    bins=bins,
    color="yellow",
    alpha=0.5
)

# Customize labels
ax.set_title("Distributions of Sale Price Grouped by Condition")
ax.set_xlabel("Sale Price")
ax.set_ylabel("Number of Houses")
ax.legend();





# Replace None with appropriate text
"""
most of the houses are above average condition
most sales are of houses of average conditions
"""





# Your code here
df.corr(numeric_only=True)





# Your code here # myanswer
# Calculate the correlation matrix for numeric columns
correlations = df.corr(numeric_only=True)
# Exclude 'SalePrice' itself and find the column with the highest positive correlation
correlations_with_saleprice = correlations['SalePrice'].drop('SalePrice')
most_correlated_feature = correlations_with_saleprice.idxmax()  # Column with the highest positive correlation
highest_correlation_value = correlations_with_saleprice.max()   # Correlation value
# Print the result
print(f"The column most positively correlated with SalePrice is: {most_correlated_feature}")
print(f"The Pearson correlation value is: {highest_correlation_value:.2f}")






# Replace None with appropriate code

import seaborn as sns

fig, (ax1, ax2) = plt.subplots(ncols=2, figsize=(15,5))

# Plot distribution of column with highest correlation
sns.boxplot(
    x=df.OverallQual,
    y=df["SalePrice"],
    ax=ax1
)
# Plot distribution of column with most negative correlation
sns.boxplot(
    x=df.KitchenAbvGr,
    y=df["SalePrice"],
    ax=ax2
)


# Customize labels
ax1.set_title("OverallQual")
ax1.set_xlabel("OverallQual")
ax1.set_ylabel("Sale Price")
ax2.set_title("KitchenAbvGr")
ax2.set_xlabel("KitchenAbvGr")
ax2.set_ylabel("Sale Price")

plt.show();








# Replace None with appropriate text
"""
None
"""





# Run this cell without changes
df["YrSold"].value_counts().sort_index()





# Run this cell without changes

# Make a new column, Age
df["Age"] = df["YrSold"] - df["YearBuilt"]

# Set up plot
fig, ax = plt.subplots(figsize=(15,5))

# Plot Age vs. SalePrice
ax.scatter(df["Age"], df["SalePrice"], alpha=0.3, color="green")
ax.set_title("Home Age vs. Sale Price")
ax.set_xlabel("Age of Home at Time of Sale")
ax.set_ylabel("Sale Price");





# Replace None with appropriate text
"""
None
"""



